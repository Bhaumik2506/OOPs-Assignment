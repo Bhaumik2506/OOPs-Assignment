{
 "cells": [
  {
   "cell_type": "markdown",
   "metadata": {},
   "source": [
    "# ***OOPs Assignment***"
   ]
  },
  {
   "cell_type": "markdown",
   "metadata": {},
   "source": [
    "### Q. 1 What is Object-Oriented Programming (OOP)?\n",
    "Answer - Object-Oriented Programming (OOP) in Python is a programming paradigm that focuses on the use of objects and classes to create programs. An object is a group of interrelated variables and functions, where the variables are often referred to as properties of the object, and the functions are referred to as the behavior of the objects.\n",
    "\n",
    "OOP allows you to create reusable code and model real-world concepts more closely, making it a popular choice for many software projects.\n",
    "\n",
    "In Python, OOP relies on the concept of a class, which acts as a blueprint to create objects. These objects can have attributes (data) and methods (functions that operate on the data).\n",
    "\n",
    "Key principles of OOP in Python include encapsulation, inheritance, and polymorphism, which contribute to code robustness and reusability.\n"
   ]
  },
  {
   "cell_type": "markdown",
   "metadata": {},
   "source": [
    "### Q. 2 What is a class in OOP ?\n",
    "Answer - In Object-Oriented Programming (OOP) in Python, a class is a blueprint for creating objects. It defines a set of attributes and methods that the objects created from the class will have. Classes are used to bundle data and functionality together, allowing for more organized and manageable code.\n",
    "\n",
    "For example, you can define a class named Speaker in Python. This class can have attributes like color, model, and methods like power_on() and power_off() to encapsulate the behavior and data of a speaker object."
   ]
  },
  {
   "cell_type": "markdown",
   "metadata": {},
   "source": [
    "### Q. 3 What is an object in OOP ?\n",
    "\n",
    "Answer - In Object-Oriented Programming (OOP) in Python, an object is an instance of a class. It represents a specific implementation of the class and holds its own data. An object consists of properties (attributes) and methods (functions) that operate on those properties. For example, a Dog class can define attributes like name and age, and methods like bark or walk.\n",
    "\n",
    "Creating an object in Python involves instantiating a class to create a new instance of that class. This process is also referred to as object instantiation.\n",
    "\n",
    "The self parameter is a reference to the current instance of the class. It allows us to access the attributes and methods of the object.\n"
   ]
  },
  {
   "cell_type": "markdown",
   "metadata": {},
   "source": [
    "### Q. 4 What is the difference between abstraction and encapsulation ?\n",
    "\n",
    "Answer - Abstraction and encapsulation are both fundamental concepts in object-oriented programming, but they serve different purposes. Abstraction focuses on simplifying complexity by providing a simplified interface for the user, showing only what is necessary and hiding unnecessary details.\n",
    "Encapsulation, on the other hand, focuses on hiding the internal details of an object and controlling how data is accessed and modified, typically through methods like getters and setters.\n",
    "\n",
    "Abstraction allows developers to work at a higher level without getting bogged down by the details, while encapsulation helps achieve modularity, reusability, and data security.\n",
    "Abstraction defines the structure and essential operations but does not manage access, whereas encapsulation actively manages and restricts how internal data and operations are accessed.\n",
    "\n",
    "In summary, abstraction provides high-level blueprints for objects, while encapsulation ensures that the details are hidden and protected."
   ]
  },
  {
   "cell_type": "markdown",
   "metadata": {},
   "source": [
    "### Q. 5 What are dunder methods in Python ?\n",
    "\n",
    "Answer - Dunder methods, also known as magic methods or special methods, are predefined methods in Python that have double underscores (or “dunders”) at the beginning and end of their names. These methods are not called magically; instead, they are called implicitly by the language at specific times that are well-defined and depend on the dunder method in question.\n",
    "\n",
    "For example, when you add two numbers using the + operator, internally, the __add__ method is called. Similarly, when you create an instance of a class, the __init__ method is called to initialize the instance.\n",
    "\n",
    "Dunder methods are often used for operator overloading, allowing instances of a class to interact with the built-in functions and operators of the language. This means that you can define how objects of your class behave when used with operators like +, -, *, /, and others.\n",
    "\n",
    "Some common dunder methods include __init__ for initialization, __str__ for string representation, __eq__ for equality comparison, and __add__ for addition. These methods are invoked internally from the class based on a certain condition or action, and they are not meant to be called directly by the programmer.\n",
    "\n",
    "For instance, if you want to make an object that acts like a number, you might implement __int__, __float__, and __complex__ so your objects can be converted to other numbers. If you want to make an object that can be used in a memoryview or can otherwise be converted to bytes, you'll want a __bytes__ method.\n",
    "\n",
    "Here is a brief overview of some key dunder methods:\n",
    "\n",
    "init: Initializes an instance of a class.\n",
    "\n",
    "str: Returns a string representation of an object.\n",
    "\n",
    "eq: Defines the behavior for the equality operator ==.\n",
    "\n",
    "add: Defines the behavior for the addition operator +.\n",
    "\n",
    "int: Converts an object to an integer.\n",
    "\n",
    "float: Converts an object to a float.\n",
    "\n",
    "bytes: Converts an object to bytes.\n",
    "\n",
    "format: Defines how an object is formatted as a string.\n",
    "\n",
    "bool: Defines the truthiness of an object.\n",
    "\n",
    "len: Returns the length of an object.\n",
    "\n",
    "contains: Checks if an object contains a specific item.\n",
    "\n",
    "These methods allow for more flexible and powerful object-oriented programming in Python.\n"
   ]
  },
  {
   "cell_type": "markdown",
   "metadata": {},
   "source": [
    "### Q. 6  Explain the concept of inheritance in OOP ?\n",
    "\n",
    "Answer - In Object-Oriented Programming (OOP), inheritance is a mechanism that allows a class to take on traits and characteristics from another class, known as the superclass or base class. This concept promotes code reuse and establishes a hierarchical relationship between classes, where a derived class (subclass or child class) can extend or customize its behavior while gaining access to the attributes and methods of the superclass.\n",
    "\n",
    "For example, a Dog class can inherit from an Animal class, inheriting attributes like name and age, and methods like eat(), while adding its own unique behavior, such as a bark() method.\n",
    "\n",
    "This hierarchical structure simplifies application design and maintenance, as changes made to the superclass can affect all derived classes, ensuring consistency across the hierarchy."
   ]
  },
  {
   "cell_type": "markdown",
   "metadata": {},
   "source": [
    "### Q. 7 What is polymorphism in OOP ?\n",
    "\n",
    "Answer - Polymorphism in Object-Oriented Programming (OOP) is the ability of an object to take on many forms. It allows methods to be written to work on objects of multiple classes, treating them as instances of a common superclass. This is often achieved through inheritance, where a child class can override methods of its parent class, and these methods can be called using a reference to the parent class type.\n",
    "\n",
    "For example, consider a scenario with different types of vehicles: a bike, a car, and a truck. Each vehicle has a method to determine the number of wheels, but the implementation varies for each type. Polymorphism allows a list of vehicles to be treated uniformly, and when the wheels method is called, the correct implementation is executed based on the actual object type.\n",
    "\n",
    "Polymorphism enables more flexible and efficient code by allowing objects to be treated generically while still executing the specific behavior required for each type.\n"
   ]
  },
  {
   "cell_type": "markdown",
   "metadata": {},
   "source": [
    "### Q. 8 How is encapsulation achieved in Python ?\n",
    "\n",
    "Answer - Encapsulation in Python is achieved through the use of access modifiers and getter and setter methods. Variables and methods in Python can be made private, protected, or public to control their accessibility. Private variables and methods are declared by prefixing them with double underscores (__), making them less accessible from outside the class, although they are not strictly enforced by the interpreter.\n",
    "\n",
    "Getter and setter methods are often used with the @property decorator to provide controlled access to private attributes.\n",
    "\n",
    "This approach enhances code security and maintainability by preventing external code from directly modifying the internal state of an object."
   ]
  },
  {
   "cell_type": "markdown",
   "metadata": {},
   "source": [
    "### Q.9  What is a constructor in Python ?\n",
    "\n",
    "Answer - In Python, a constructor is a special method named __init__ that is automatically called when an object is created from a class. It is used to initialize the object's attributes or state, enabling you to configure any starting values for the object.\n",
    "\n",
    "The __init__ method takes self as its first parameter, which represents the instance of the class, followed by any additional parameters needed to initialize the object's attributes.\n",
    "\n",
    "Additionally, Python has a method called __new__ that creates a new instance of the class before __init__ is called, which is responsible for allocating memory and returning the new object.\n",
    "\n",
    "To summarize, constructors in Python are essential for setting up the initial state of objects, and the __init__ method is the primary constructor used for this purpose."
   ]
  },
  {
   "cell_type": "markdown",
   "metadata": {},
   "source": [
    "### Q.10  What are class and static methods in Python ?\n",
    "\n",
    "Answer - In Python, class methods and static methods are both types of methods that can be defined within a class, but they serve different purposes.\n",
    "\n",
    "Class methods are bound to the class itself, not the instance of the class. They take cls as the first parameter, which refers to the class itself, and can access and modify class-level data. Class methods are often used for factory methods or class-level behaviors. For example, a class method can be used to create an instance of a class in a specific way, such as from a timestamp.\n",
    "\n",
    "Static methods, on the other hand, are not bound to the class or instance. They do not receive any special first parameter like self or cls. Static methods are used for utility functions or helper methods that do not need access to class or instance data. They are essentially regular functions that belong to the class's namespace.\n",
    "\n",
    "Both class methods and static methods have their place in Python programming. The choice between them depends on whether we need access to class state and whether inheritance is a concern. Static methods are just regular functions in the class scope, while class methods can work with class state and play well with inheritance."
   ]
  },
  {
   "cell_type": "markdown",
   "metadata": {},
   "source": [
    "### Q.11  What is method overloading in Python ?\n",
    "\n",
    "Answer - Method overloading in Python refers to the ability to define multiple methods with the same name but different parameters in a class. However, Python does not directly support method overloading like some other languages such as Java or C++. Instead, developers can achieve similar functionality using default parameter values, variable-length argument lists (*args, **kwargs), or conditional logic within a single method.\n",
    "\n",
    "For example, a method can be defined to handle different numbers of arguments by using default values for parameters, allowing it to behave differently based on the number or type of arguments passed.\n",
    "\n",
    "This approach enhances code readability and reusability, providing a more flexible interface for class users."
   ]
  },
  {
   "cell_type": "markdown",
   "metadata": {},
   "source": [
    "### Q.12  What is method overriding in OOP ?\n",
    "\n",
    "Answer - Method overriding in Object-Oriented Programming (OOP) Python occurs when a child class defines a method with the same name and parameters as a method in its parent class, allowing the child class to provide a specific implementation of that method.\n",
    "\n",
    "When the method is called on an instance of the child class, its implementation overrides the parent class's version.\n",
    "\n",
    "This feature enables subclasses to extend or modify the behavior of inherited methods without changing the original class, promoting code reuse and maintainability."
   ]
  },
  {
   "cell_type": "markdown",
   "metadata": {},
   "source": [
    "### Q.13  What is a property decorator in Python ?\n",
    "\n",
    "Answer - In Python, the @property decorator allows you to define methods that can be accessed like regular attributes without parentheses, enhancing code readability and encapsulation.\n",
    "This decorator transforms methods into dynamic attributes, enabling you to control access to class attributes, perform validation, and add custom logic when an attribute is accessed.\n",
    "\n",
    "For example, you can define a getter method to retrieve an attribute value and a setter method to validate and set the attribute value.\n",
    "\n",
    "This approach is particularly useful for computed attributes that are not stored as data but are calculated on-the-fly when accessed.\n",
    "\n",
    "\n"
   ]
  },
  {
   "cell_type": "markdown",
   "metadata": {},
   "source": [
    "### Q.14  Why is polymorphism important in OOP ?\n",
    "\n",
    "Answer - Polymorphism is important in Object-Oriented Programming (OOP) because it allows different objects to accept the same message and implement their own behavior, which is a core aspect of OOP.\n",
    "\n",
    "This concept enables the inversion of source code and runtime dependencies, making the code more flexible and easier to extend or change without affecting the entire program.\n",
    "\n",
    "For example, in a web framework like Rails, multiple cache stores such as FileStore, MemCacheStore, and RedisCacheStore can be used interchangeably. Polymorphism ensures that the code in example_method does not need to know which cache store is used or how it works, as long as the cache store implements a #fetch method.\n",
    "\n",
    "This makes the code more concise and shields it from changes in the underlying cache store implementations.\n",
    "\n",
    "Polymorphism also supports the principle of \"inversion of dependencies,\" which is crucial for maintaining a clean and modular codebase. By agreeing on an interface, different cache stores can be polymorphic, allowing for easy swapping or addition of new stores without altering the dependent code.\n",
    "\n",
    "In summary, polymorphism enhances the modularity and flexibility of OOP programs, making them easier to maintain and extend."
   ]
  },
  {
   "cell_type": "markdown",
   "metadata": {},
   "source": [
    "### Q.15  What is an abstract class in Python ?\n",
    "\n",
    "Answer - An abstract class in Python is a class that cannot be instantiated and may contain one or more abstract methods—methods without a defined implementation.\n",
    " Abstract classes provide a blueprint for other classes, enforcing a common structure while allowing derived classes to provide concrete implementations for the abstract methods.\n",
    " Python’s abc (Abstract Base Classes) module provides the infrastructure for creating abstract classes.\n",
    " The ABC (Abstract Base Class) meta-class, along with the @abstractmethod decorator, facilitates the definition of abstract methods.\n",
    " For example, an abstract class can define a method that all subclasses must implement, ensuring a consistent interface across different classes.\n",
    "\n",
    "from abc import ABC, abstractmethod\n",
    "\n",
    "class AbstractClass(ABC):\n",
    "\n",
    " @abstractmethod\n",
    "\n",
    "\\text{ def abstract_method(self):}\n",
    "\n",
    " pass\n",
    "\n",
    "In this example, AbstractClass is an abstract class containing an abstract method abstract_method. Any class inheriting from AbstractClass must provide a concrete implementation for abstract_method."
   ]
  },
  {
   "cell_type": "markdown",
   "metadata": {},
   "source": [
    "### Q.16  What are the advantages of OOP ?\n",
    "\n",
    "Answer - Object-Oriented Programming (OOP) offers several advantages that make it a preferred choice for software development. One of the key benefits is encapsulation, which allows objects to be self-contained, making troubleshooting and collaborative development easier.\n",
    "This modularity also allows an IT team to work on multiple objects simultaneously while minimizing the chance that one person might duplicate someone else's functionality.\n",
    "\n",
    "Another significant advantage is code reusability. OOP allows developers to create new classes based on existing ones, reducing code duplication and saving development time significantly.\n",
    "This is facilitated by inheritance, which enables the reuse of code, improving code quality and saving time.\n",
    "\n",
    "OOP also promotes flexibility and scalability. It enables easy addition and modification of features without impacting the entire codebase.\n",
    "This makes it easier to scale software systems as they grow in complexity.\n",
    "\n",
    "Additionally, OOP enhances data security and reduces the chance of data corruption by encapsulating data and behavior within objects.\n",
    "This encapsulation protects data integrity and privacy by restricting direct access and allowing controlled access through methods.\n",
    "\n",
    "Furthermore, OOP models real-world systems, allowing developers to create intuitive solutions that closely mimic real-world circumstances, leading to better problem-solving.\n",
    "\n",
    "Lastly, OOP improves productivity as programmers can construct new programs quickly through the use of multiple libraries and reusable code."
   ]
  },
  {
   "cell_type": "markdown",
   "metadata": {},
   "source": [
    "### Q.17  What is the difference between a class variable and an instance variable ?\n",
    "\n",
    "Answer - a class variable is defined at the class level and shared among all instances of the class, whereas an instance variable is defined within methods and is specific to each instance of the class.\n",
    "Class variables are declared using the static keyword in other languages but in Python, they are declared without any specific keyword and are typically placed at the class level.\n",
    "\n",
    "Instance variables are owned by objects of the class, allowing each object to have different values assigned to those variables.\n",
    "Class variables, on the other hand, define a specific attribute or property for a class and can be shared between the class and its subclasses."
   ]
  },
  {
   "cell_type": "markdown",
   "metadata": {},
   "source": [
    "### Q.18 What is multiple inheritance in Python ?\n",
    "\n",
    "Answer - Multiple inheritance in Python is a feature where a class can inherit attributes and methods from more than one parent class, allowing the child class to combine behaviors or attributes from multiple other classes.\n",
    "\n",
    "This increases code reuse and minimizes redundancy, enabling the creation of complex class hierarchies that can model real-world relationships more accurately.\n",
    "\n",
    "For example, a class ChildClass can inherit from two parent classes Parent1 and Parent2, thus gaining all their properties and methods."
   ]
  },
  {
   "cell_type": "markdown",
   "metadata": {},
   "source": [
    "### Q.19  Explain the purpose of ‘’__str__’ and ‘__repr__’ ‘ methods in Python ?\n",
    "\n",
    "Answer - In Python, the __str__ method is used to create a string representation of an object that is meant to be human-readable and user-friendly.\n",
    "This method is invoked when the object is printed or passed to the str() function. On the other hand, the __repr__ method is used to create a string representation of an object that is more detailed and unambiguous, intended for debugging and logging purposes.\n",
    "\n",
    "The __repr__ method is called when the repr() function is used on an object or when the object is inspected in the Python REPL.\n",
    "\n",
    "For example, when you print a date-time object, str() displays the date and time in a way that is easy for a user to understand, while repr() prints an \"official\" representation of the date-time object that can be used to reconstruct the object.\n",
    "\n",
    "Implementing both methods enhances the readability and debuggability of code, making it easier to work with complex objects."
   ]
  },
  {
   "cell_type": "markdown",
   "metadata": {},
   "source": [
    "### Q.20  What is the significance of the ‘super()’ function in Python ?\n",
    "\n",
    "Answer - The super() function in Python is significant because it allows a subclass to inherit and extend the functionality of its parent class without explicitly naming the parent class. This is particularly useful in scenarios involving multiple inheritance, where super() helps in calling the correct method from the Method Resolution Order (MRO).\n",
    "\n",
    "Using super() can simplify code and make it more maintainable by reducing the need for explicit class references. However, it can also introduce complexities, especially in cases where multiple inheritance is involved or when methods need to be called from specific parent classes that are not the immediate superclass.\n",
    "\n",
    "In Python 3, the syntax for using super() is simplified to super().__init__() without the need to specify the class and instance explicitly, making the code cleaner and more readable."
   ]
  },
  {
   "cell_type": "markdown",
   "metadata": {},
   "source": [
    "### Q.21  What is the significance of the __del__ method in Python ?\n",
    "\n",
    "Answer - The del method in Python is a special method that is called when an object is about to be destroyed by the garbage collector, which happens after all references to the object have been destroyed.\n",
    "\n",
    "This method allows an object to perform cleanup actions, such as closing files, releasing locks, or closing network connections, before it is destroyed.\n",
    "\n",
    "However, it is important to note that the del statement does not trigger the del method; it only removes references to the object.\n",
    "\n",
    "It is not recommended to use del for resource cleanup because it is not guaranteed that the del() methods are called for objects that still exist when the interpreter exits.\n",
    "Instead, it is recommended to use context managers or try-finally blocks for resource management.\n",
    "\n",
    "Despite these limitations, del can be used as a last-resort mechanism to ensure that necessary cleanup is performed before an object is destroyed, especially if the user forgets to explicitly call a close method.\n",
    "\n",
    "However, relying on del for critical cleanup operations is not advisable due to the lack of guarantees about its execution.\n",
    "\n",
    "del Method: Called by Python's garbage collector when an object is about to be destroyed, allowing the object to perform cleanup actions before destruction.\n",
    "\n",
    "Garbage Collection: The process by which Python automatically manages memory, destroying objects when they are no longer referenced.\n",
    "\n",
    "Context Managers: Preferred method for resource management in Python, ensuring that resources are properly managed and released.\n",
    "\n",
    "del Statement: Used to remove references to objects but does not trigger the del method.\n"
   ]
  },
  {
   "cell_type": "markdown",
   "metadata": {},
   "source": [
    "### Q.22 What is the difference between @staticmethod and @classmethod in Python ?\n",
    "\n",
    "Answer - In Python, @staticmethod and @classmethod are used to define methods within a class, but they behave differently. A @staticmethod does not receive an implicit first argument (like self or cls) and operates independently of the class or instance it is called on.\n",
    "On the other hand, a @classmethod receives the class itself as the first argument (cls), allowing it to access and modify class-level attributes.\n",
    "\n",
    "A @staticmethod is useful for utility functions that are related to the class but do not require access to instance or class data.\n",
    "In contrast, a @classmethod is often used for factory methods that create instances of the class or modify class-level attributes.\n",
    "\n",
    "When deciding between the two, consider whether the method requires access to class-level attributes or methods; if so, use @classmethod. If the method operates independently without interacting with other class components, use @staticmethod.\n"
   ]
  },
  {
   "cell_type": "markdown",
   "metadata": {},
   "source": [
    "### Q.23 How does polymorphism work in Python with inheritance ?\n",
    "\n",
    "Answer - In Python, polymorphism allows methods in different classes to share the same name but perform distinct tasks, which is achieved through inheritance and interface design. When a subclass overrides a method from its parent class, it provides a specific implementation, a process known as Method Overriding.\n",
    "\n",
    "For example, consider the following classes:\n",
    "\n",
    "Animal: A base class with a method make_sound(). This method can be overridden in derived classes to produce different sounds.\n",
    "\n",
    "Dog: A derived class from Animal that overrides the make_sound() method to print \"Bark\".\n",
    "\n",
    "Cat: Another derived class from Animal that overrides the make_sound() method to print \"Meow\".\n",
    "\n",
    "When an object of either the Dog or Cat class calls the make_sound() method, it executes the overridden version specific to that class, demonstrating polymorphism in action.\n",
    "\n",
    "Additionally, Python's dynamic typing and duck typing allow functions to operate on different types of inputs with a consistent interface. For instance, the built-in len() function can accept various types of inputs, such as lists, strings, and dictionaries, and return the length of the object accordingly.\n",
    "\n",
    "Polymorphism is a powerful feature that complements other OOP principles like inheritance and encapsulation to create robust and modular applications."
   ]
  },
  {
   "cell_type": "markdown",
   "metadata": {},
   "source": [
    "### Q.24  What is method chaining in Python OOP ?\n",
    "\n",
    "Answer - Method chaining in Python Object-Oriented Programming (OOP) is a technique where multiple methods of the same object are called in succession, each method returning the object itself to allow further method calls to be chained together. This pattern enhances code readability and conciseness by eliminating the need for intermediate variables or repeated method calls.\n",
    "\n",
    "Method chaining is particularly useful in libraries like Pandas, where functions such as filter(), groupby(), and agg() can be chained together to perform complex data transformations efficiently"
   ]
  },
  {
   "cell_type": "markdown",
   "metadata": {},
   "source": [
    "### Q.25 What is the purpose of the __call__ method in Python?\n",
    "\n",
    "Answer - The __call__ method in Python is designed to enable instances of a class to be callable, allowing them to behave like functions. When an instance of a class that defines __call__ is called, Python internally translates the call into a method call to __call__ with the same arguments passed to the instance.\n",
    "\n",
    "This method is particularly useful for creating objects that act like functions, such as in the context of function decorators or when you need an object to perform a specific action when called.\n",
    "\n",
    "For example, you can define a class that calculates powers of numbers and make instances of this class callable to perform the calculation."
   ]
  },
  {
   "cell_type": "markdown",
   "metadata": {},
   "source": [
    "# ***Practical Questions***"
   ]
  },
  {
   "cell_type": "markdown",
   "metadata": {},
   "source": []
  },
  {
   "cell_type": "code",
   "execution_count": 8,
   "metadata": {},
   "outputs": [
    {
     "name": "stdout",
     "output_type": "stream",
     "text": [
      "bark!\n"
     ]
    }
   ],
   "source": [
    "# 1. Create a parent class Animal with a method speak() that prints a generic message. Create a child class Dog that overrides the speak() method to print \"Bark!\".\n",
    "\n",
    "class Animal():\n",
    "    def speak(self):\n",
    "        print(\"This is animal Sound\")\n",
    "\n",
    "class Dog(Animal):\n",
    "    def speak(self):\n",
    "        print(\"bark!\")\n",
    "\n",
    "My_Dog = Dog()\n",
    "My_Dog.speak()"
   ]
  },
  {
   "cell_type": "code",
   "execution_count": 17,
   "metadata": {},
   "outputs": [
    {
     "name": "stdout",
     "output_type": "stream",
     "text": [
      "Area of Circle: 78.53981633974483\n",
      "Area of Rectangle: 24\n"
     ]
    }
   ],
   "source": [
    "# 2. Write a program to create an abstract class Shape with a method area(). Derive classes Circle and Rectangle from it and implement the area() method in both.\n",
    "\n",
    "from abc import ABC, abstractmethod\n",
    "import math\n",
    "\n",
    "# Abstract class Shape\n",
    "class Shape(ABC):\n",
    "\n",
    "    @abstractmethod\n",
    "    def area(self):\n",
    "        pass\n",
    "\n",
    "# Derived class Circle\n",
    "class Circle(Shape):\n",
    "    def __init__(self, radius):\n",
    "        self.radius = radius\n",
    "\n",
    "    def area(self):\n",
    "        return math.pi * self.radius * self.radius\n",
    "\n",
    "# Derived class Rectangle\n",
    "class Rectangle(Shape):\n",
    "    def __init__(self, length, width):\n",
    "        self.length = length\n",
    "        self.width = width\n",
    "\n",
    "    def area(self):\n",
    "        return self.length * self.width\n",
    "\n",
    "# Example usage\n",
    "circle = Circle(5)\n",
    "rectangle = Rectangle(4, 6)\n",
    "\n",
    "print(\"Area of Circle:\", circle.area())\n",
    "print(\"Area of Rectangle:\", rectangle.area())\n"
   ]
  },
  {
   "cell_type": "code",
   "execution_count": 20,
   "metadata": {},
   "outputs": [
    {
     "name": "stdout",
     "output_type": "stream",
     "text": [
      "Vehicle Type: Four Wheeler\n",
      "Car Brand: Tesla\n",
      "Battery Capacity: 75 kWh\n"
     ]
    }
   ],
   "source": [
    "# 3. Implement a multi-level inheritance scenario where a class Vehicle has an attribute type. Derive a class Car and further derive a class ElectricCar that adds a battery attribute.\n",
    "\n",
    "# Base class\n",
    "class Vehicle:\n",
    "    def __init__(self, vehicle_type):\n",
    "        self.vehicle_type = vehicle_type\n",
    "\n",
    "    def display_type(self):\n",
    "        print(f\"Vehicle Type: {self.vehicle_type}\")\n",
    "\n",
    "# Derived class from Vehicle\n",
    "class Car(Vehicle):\n",
    "    def __init__(self, vehicle_type, brand):\n",
    "        super().__init__(vehicle_type)\n",
    "        self.brand = brand\n",
    "\n",
    "    def display_brand(self):\n",
    "        print(f\"Car Brand: {self.brand}\")\n",
    "\n",
    "# Further derived class from Car\n",
    "class ElectricCar(Car):\n",
    "    def __init__(self, vehicle_type, brand, battery_capacity):\n",
    "        super().__init__(vehicle_type, brand)\n",
    "        self.battery_capacity = battery_capacity\n",
    "\n",
    "    def display_battery(self):\n",
    "        print(f\"Battery Capacity: {self.battery_capacity} kWh\")\n",
    "\n",
    "# Example usage\n",
    "e_car = ElectricCar(\"Four Wheeler\", \"Tesla\", 75)\n",
    "e_car.display_type()\n",
    "e_car.display_brand()\n",
    "e_car.display_battery()\n"
   ]
  },
  {
   "cell_type": "code",
   "execution_count": 28,
   "metadata": {},
   "outputs": [
    {
     "name": "stdout",
     "output_type": "stream",
     "text": [
      "Sparrow flies high in the sky.\n",
      "Penguins cannot fly\n"
     ]
    }
   ],
   "source": [
    "# 4. Demonstrate polymorphism by creating a base class Bird with a method fly(). Create two derived classes Sparrow and Penguin that override the fly() method. \n",
    "\n",
    "# Base class\n",
    "class Bird:\n",
    "    def fly(self):\n",
    "        print(\"Bird is flying\")\n",
    "\n",
    "# Derived class Sparrow\n",
    "class Sparrow(Bird):\n",
    "    def fly(self):\n",
    "        print(\"Sparrow flies high in the sky.\")\n",
    "\n",
    "# Derived class Penguin\n",
    "class Penguin(Bird):\n",
    "    def fly(self):\n",
    "        print(\"Penguins cannot fly\")\n",
    "\n",
    "# Function to demonstrate polymorphism\n",
    "def show_flying_ability(bird):\n",
    "    bird.fly()\n",
    "\n",
    "# Example usage\n",
    "bird1 = Sparrow()\n",
    "bird2 = Penguin()\n",
    "\n",
    "show_flying_ability(bird1)  # Output: Sparrow flies high in the sky.\n",
    "show_flying_ability(bird2)  # Output: Penguins cannot fly but they swim really well.\n"
   ]
  },
  {
   "cell_type": "code",
   "execution_count": null,
   "metadata": {},
   "outputs": [
    {
     "name": "stdout",
     "output_type": "stream",
     "text": [
      "Current Balance: ₹1000\n",
      "Deposited: ₹500\n",
      "Withdrawn: ₹300\n",
      "Current Balance: ₹1200\n"
     ]
    }
   ],
   "source": [
    "# 5. Write a program to demonstrate encapsulation by creating a class BankAccount with private attributes balance and methods to deposit, withdraw, and check balance.\n",
    "\n",
    "class BankAccount:\n",
    "    def __init__(self, initial_balance=0):\n",
    "        self.__balance = initial_balance  # Private attribute\n",
    "\n",
    "    def deposit(self, amount):\n",
    "        if amount > 0:\n",
    "            self.__balance += amount\n",
    "            print(f\"Deposited: ₹{amount}\")\n",
    "        else:\n",
    "            print(\"Deposit amount must be positive.\")\n",
    "\n",
    "    def withdraw(self, amount):\n",
    "        if 0 < amount <= self.__balance:\n",
    "            self.__balance -= amount\n",
    "            print(f\"Withdrawn: ₹{amount}\")\n",
    "        else:\n",
    "            print(\"Insufficient balance or invalid amount.\")\n",
    "\n",
    "    def check_balance(self):\n",
    "        print(f\"Current Balance: ₹{self.__balance}\")\n",
    "\n",
    "# Example usage\n",
    "account = BankAccount(1000)\n",
    "account.check_balance()\n",
    "account.deposit(500)\n",
    "account.withdraw(300)\n",
    "account.check_balance()\n",
    "\n",
    "# Trying to access the private attribute directly (will raise an AttributeError)\n",
    "# print(account.__balance)  # Uncommenting this line will cause an error\n"
   ]
  },
  {
   "cell_type": "code",
   "execution_count": 32,
   "metadata": {},
   "outputs": [
    {
     "name": "stdout",
     "output_type": "stream",
     "text": [
      "Strumming the guitar.\n",
      "Playing the piano.\n"
     ]
    }
   ],
   "source": [
    "# 6. Demonstrate runtime polymorphism using a method play() in a base class Instrument. Derive classes Guitar and Piano that implement their own version of play().\n",
    "\n",
    "# Base class\n",
    "class Instrument:\n",
    "    def play(self):\n",
    "        print(\"Playing an instrument.\")\n",
    "\n",
    "# Derived class Guitar\n",
    "class Guitar(Instrument):\n",
    "    def play(self):\n",
    "        print(\"Strumming the guitar.\")\n",
    "\n",
    "# Derived class Piano\n",
    "class Piano(Instrument):\n",
    "    def play(self):\n",
    "        print(\"Playing the piano.\")\n",
    "\n",
    "# Function to demonstrate runtime polymorphism\n",
    "def start_performance(instrument):\n",
    "    instrument.play()\n",
    "\n",
    "# Example usage\n",
    "guitar = Guitar()\n",
    "piano = Piano()\n",
    "\n",
    "start_performance(guitar) \n",
    "start_performance(piano)  \n"
   ]
  },
  {
   "cell_type": "code",
   "execution_count": 33,
   "metadata": {},
   "outputs": [
    {
     "name": "stdout",
     "output_type": "stream",
     "text": [
      "Addition: 15\n",
      "Subtraction: 5\n"
     ]
    }
   ],
   "source": [
    "# 7. Create a class MathOperations with a class method add_numbers() to add two numbers and a static method subtract_numbers() to subtract two numbers.\n",
    "\n",
    "class MathOperations:\n",
    "    \n",
    "    # Class method\n",
    "    @classmethod\n",
    "    def add_numbers(cls, a, b):\n",
    "        return a + b\n",
    "\n",
    "    # Static method\n",
    "    @staticmethod\n",
    "    def subtract_numbers(a, b):\n",
    "        return a - b\n",
    "\n",
    "# Example usage\n",
    "result_add = MathOperations.add_numbers(10, 5)\n",
    "result_subtract = MathOperations.subtract_numbers(10, 5)\n",
    "\n",
    "print(\"Addition:\", result_add)         # Output: 15\n",
    "print(\"Subtraction:\", result_subtract) # Output: 5\n"
   ]
  },
  {
   "cell_type": "code",
   "execution_count": 35,
   "metadata": {},
   "outputs": [
    {
     "name": "stdout",
     "output_type": "stream",
     "text": [
      "Total persons created: 3\n"
     ]
    }
   ],
   "source": [
    "# 8. Implement a class Person with a class method to count the total number of persons created.\n",
    "\n",
    "class Person:\n",
    "    count = 0  # Class variable to track number of persons\n",
    "\n",
    "    def __init__(self, name):\n",
    "        self.name = name\n",
    "        Person.count += 1  # Increment count whenever a new Person is created\n",
    "\n",
    "    @classmethod\n",
    "    def total_persons(cls):\n",
    "        print(f\"Total persons created: {cls.count}\")\n",
    "\n",
    "# Example usage\n",
    "p1 = Person(\"Bhaumik\")\n",
    "p2 = Person(\"Prayag\")\n",
    "p3 = Person(\"Rohan\")\n",
    "\n",
    "Person.total_persons()  # Output: Total persons created: 3\n",
    "\n"
   ]
  },
  {
   "cell_type": "code",
   "execution_count": 37,
   "metadata": {},
   "outputs": [
    {
     "name": "stdout",
     "output_type": "stream",
     "text": [
      "3/4\n",
      "7/2\n"
     ]
    }
   ],
   "source": [
    "# 9. Write a class Fraction with attributes numerator and denominator. Override the str method to display the fraction as \"numerator/denominator\".\n",
    "\n",
    "class Fraction:\n",
    "    def __init__(self, numerator, denominator):\n",
    "        self.numerator = numerator\n",
    "        self.denominator = denominator\n",
    "\n",
    "    def __str__(self):\n",
    "        return f\"{self.numerator}/{self.denominator}\"\n",
    "\n",
    "# Example usage\n",
    "f1 = Fraction(3, 4)\n",
    "f2 = Fraction(7, 2)\n",
    "\n",
    "print(f1)  \n",
    "print(f2)  \n"
   ]
  },
  {
   "cell_type": "code",
   "execution_count": 38,
   "metadata": {},
   "outputs": [
    {
     "name": "stdout",
     "output_type": "stream",
     "text": [
      "v1: Vector(2, 3)\n",
      "v2: Vector(4, 1)\n",
      "v1 + v2 = Vector(6, 4)\n"
     ]
    }
   ],
   "source": [
    "# 10. Demonstrate operator overloading by creating a class Vector and overriding the add method to add two vectors.\n",
    "\n",
    "class Vector:\n",
    "    def __init__(self, x, y):\n",
    "        self.x = x\n",
    "        self.y = y\n",
    "\n",
    "    # Overloading the + operator\n",
    "    def __add__(self, other):\n",
    "        return Vector(self.x + other.x, self.y + other.y)\n",
    "\n",
    "    def __str__(self):\n",
    "        return f\"Vector({self.x}, {self.y})\"\n",
    "\n",
    "# Example usage\n",
    "v1 = Vector(2, 3)\n",
    "v2 = Vector(4, 1)\n",
    "v3 = v1 + v2  # Calls v1.__add__(v2)\n",
    "\n",
    "print(\"v1:\", v1)\n",
    "print(\"v2:\", v2)\n",
    "print(\"v1 + v2 =\", v3)\n"
   ]
  },
  {
   "cell_type": "code",
   "execution_count": 39,
   "metadata": {},
   "outputs": [
    {
     "name": "stdout",
     "output_type": "stream",
     "text": [
      "Hello, my name is Bhaumik and I am 22 years old.\n",
      "Hello, my name is Prayag and I am 19 years old.\n"
     ]
    }
   ],
   "source": [
    "#11. Create a class Person with attributes name and age. Add a method greet() that prints \"Hello, my name is {name} and I am {age} years old.\"\n",
    "\n",
    "class Person:\n",
    "    def __init__(self, name, age):\n",
    "        self.name = name\n",
    "        self.age = age\n",
    "\n",
    "    def greet(self):\n",
    "        print(f\"Hello, my name is {self.name} and I am {self.age} years old.\")\n",
    "\n",
    "# Example usage\n",
    "p1 = Person(\"Bhaumik\", 22)\n",
    "p2 = Person(\"Prayag\", 19)\n",
    "\n",
    "p1.greet()  \n",
    "p2.greet()  \n"
   ]
  },
  {
   "cell_type": "code",
   "execution_count": 40,
   "metadata": {},
   "outputs": [
    {
     "name": "stdout",
     "output_type": "stream",
     "text": [
      "Bhaumik's average grade: 86.25\n",
      "Prayag's average grade: 71.67\n"
     ]
    }
   ],
   "source": [
    "#12. Implement a class Student with attributes name and grades. Create a method average_grade() to compute the average of the grades.\n",
    "\n",
    "class Student:\n",
    "    def __init__(self, name, grades):\n",
    "        self.name = name\n",
    "        self.grades = grades  # List of grades\n",
    "\n",
    "    def average_grade(self):\n",
    "        if self.grades:\n",
    "            avg = sum(self.grades) / len(self.grades)\n",
    "            return avg\n",
    "        else:\n",
    "            return 0\n",
    "\n",
    "# Example usage\n",
    "s1 = Student(\"Bhaumik\", [85, 90, 78, 92])\n",
    "s2 = Student(\"Prayag\", [70, 65, 80])\n",
    "\n",
    "print(f\"{s1.name}'s average grade: {s1.average_grade():.2f}\")\n",
    "print(f\"{s2.name}'s average grade: {s2.average_grade():.2f}\")\n"
   ]
  },
  {
   "cell_type": "code",
   "execution_count": 41,
   "metadata": {},
   "outputs": [
    {
     "name": "stdout",
     "output_type": "stream",
     "text": [
      "Area of rectangle: 15\n"
     ]
    }
   ],
   "source": [
    "# 13. Create a class Rectangle with methods set_dimensions() to set the dimensions and area() to calculate the area.\n",
    "\n",
    "class Rectangle:\n",
    "    def __init__(self):\n",
    "        self.length = 0\n",
    "        self.width = 0\n",
    "\n",
    "    def set_dimensions(self, length, width):\n",
    "        self.length = length\n",
    "        self.width = width\n",
    "\n",
    "    def area(self):\n",
    "        return self.length * self.width\n",
    "\n",
    "# Example usage\n",
    "rect = Rectangle()\n",
    "rect.set_dimensions(5, 3)\n",
    "print(\"Area of rectangle:\", rect.area())  # Output: 15\n"
   ]
  },
  {
   "cell_type": "code",
   "execution_count": 43,
   "metadata": {},
   "outputs": [
    {
     "name": "stdout",
     "output_type": "stream",
     "text": [
      "Bhaumik's salary: ₹800\n",
      "Prayag's salary (with bonus): ₹1850\n"
     ]
    }
   ],
   "source": [
    "#14. Create a class Employee with a method calculate_salary() that computes the salary based on hours worked and hourly rate. Create a derived class Manager that adds a bonus to the salary.\n",
    "\n",
    "# Base class\n",
    "class Employee:\n",
    "    def __init__(self, name, hours_worked, hourly_rate):\n",
    "        self.name = name\n",
    "        self.hours_worked = hours_worked\n",
    "        self.hourly_rate = hourly_rate\n",
    "\n",
    "    def calculate_salary(self):\n",
    "        return self.hours_worked * self.hourly_rate\n",
    "\n",
    "# Derived class\n",
    "class Manager(Employee):\n",
    "    def __init__(self, name, hours_worked, hourly_rate, bonus):\n",
    "        super().__init__(name, hours_worked, hourly_rate)\n",
    "        self.bonus = bonus\n",
    "\n",
    "    def calculate_salary(self):\n",
    "        base_salary = super().calculate_salary()\n",
    "        return base_salary + self.bonus\n",
    "\n",
    "# Example usage\n",
    "emp = Employee(\"Bhaumik\", 40, 20)\n",
    "mgr = Manager(\"Prayag\", 45, 30, 500)\n",
    "\n",
    "print(f\"{emp.name}'s salary: ₹{emp.calculate_salary()}\")\n",
    "print(f\"{mgr.name}'s salary (with bonus): ₹{mgr.calculate_salary()}\")\n"
   ]
  },
  {
   "cell_type": "code",
   "execution_count": 44,
   "metadata": {},
   "outputs": [
    {
     "name": "stdout",
     "output_type": "stream",
     "text": [
      "Total price for Laptop: ₹100000\n",
      "Total price for Phone: ₹60000\n"
     ]
    }
   ],
   "source": [
    "#15. Create a class Product with attributes name, price, and quantity. Implement a method total_price() that calculates the total price of the product.\n",
    "\n",
    "class Product:\n",
    "    def __init__(self, name, price, quantity):\n",
    "        self.name = name\n",
    "        self.price = price      # Price per unit\n",
    "        self.quantity = quantity  # Number of units\n",
    "\n",
    "    def total_price(self):\n",
    "        return self.price * self.quantity\n",
    "\n",
    "# Example usage\n",
    "p1 = Product(\"Laptop\", 50000, 2)\n",
    "p2 = Product(\"Phone\", 20000, 3)\n",
    "\n",
    "print(f\"Total price for {p1.name}: ₹{p1.total_price()}\")\n",
    "print(f\"Total price for {p2.name}: ₹{p2.total_price()}\")\n"
   ]
  },
  {
   "cell_type": "code",
   "execution_count": 45,
   "metadata": {},
   "outputs": [
    {
     "name": "stdout",
     "output_type": "stream",
     "text": [
      "Cow says: Moo\n",
      "Sheep says: Baa\n"
     ]
    }
   ],
   "source": [
    "# 16. Create a class Animal with an abstract method sound(). Create two derived classes Cow and Sheep that implement the sound() method.\n",
    "\n",
    "from abc import ABC, abstractmethod\n",
    "\n",
    "# Abstract base class\n",
    "class Animal(ABC):\n",
    "    @abstractmethod\n",
    "    def sound(self):\n",
    "        pass\n",
    "\n",
    "# Derived class Cow\n",
    "class Cow(Animal):\n",
    "    def sound(self):\n",
    "        return \"Moo\"\n",
    "\n",
    "# Derived class Sheep\n",
    "class Sheep(Animal):\n",
    "    def sound(self):\n",
    "        return \"Baa\"\n",
    "\n",
    "# Example usage\n",
    "cow = Cow()\n",
    "sheep = Sheep()\n",
    "\n",
    "print(\"Cow says:\", cow.sound())     # Output: Moo\n",
    "print(\"Sheep says:\", sheep.sound()) # Output: Baa\n"
   ]
  },
  {
   "cell_type": "code",
   "execution_count": 46,
   "metadata": {},
   "outputs": [
    {
     "name": "stdout",
     "output_type": "stream",
     "text": [
      "'To Kill a Mockingbird' by Harper Lee (Published in 1960)\n",
      "'1984' by George Orwell (Published in 1949)\n"
     ]
    }
   ],
   "source": [
    "# 17. Create a class Book with attributes title, author, and year_published. Add a method get_book_info() that returns a formatted string with the book's details.\n",
    "\n",
    "class Book:\n",
    "    def __init__(self, title, author, year_published):\n",
    "        self.title = title\n",
    "        self.author = author\n",
    "        self.year_published = year_published\n",
    "\n",
    "    def get_book_info(self):\n",
    "        return f\"'{self.title}' by {self.author} (Published in {self.year_published})\"\n",
    "\n",
    "# Example usage\n",
    "book1 = Book(\"To Kill a Mockingbird\", \"Harper Lee\", 1960)\n",
    "book2 = Book(\"1984\", \"George Orwell\", 1949)\n",
    "\n",
    "print(book1.get_book_info())\n",
    "print(book2.get_book_info())\n"
   ]
  },
  {
   "cell_type": "code",
   "execution_count": 47,
   "metadata": {},
   "outputs": [
    {
     "name": "stdout",
     "output_type": "stream",
     "text": [
      "Address: 123 Main St, Price: ₹7500000\n",
      "Address: 456 Royal Avenue, Price: ₹25000000, Number of Rooms: 12\n"
     ]
    }
   ],
   "source": [
    "# 18. Create a class House with attributes address and price. Create a derived class Mansion that adds an attribute number_of_rooms.\n",
    "\n",
    "# Base class\n",
    "class House:\n",
    "    def __init__(self, address, price):\n",
    "        self.address = address\n",
    "        self.price = price\n",
    "\n",
    "    def display_info(self):\n",
    "        return f\"Address: {self.address}, Price: ₹{self.price}\"\n",
    "\n",
    "# Derived class\n",
    "class Mansion(House):\n",
    "    def __init__(self, address, price, number_of_rooms):\n",
    "        super().__init__(address, price)\n",
    "        self.number_of_rooms = number_of_rooms\n",
    "\n",
    "    def display_info(self):\n",
    "        return f\"{super().display_info()}, Number of Rooms: {self.number_of_rooms}\"\n",
    "\n",
    "# Example usage\n",
    "house = House(\"123 Main St\", 7500000)\n",
    "mansion = Mansion(\"456 Royal Avenue\", 25000000, 12)\n",
    "\n",
    "print(house.display_info())    \n",
    "print(mansion.display_info())  \n"
   ]
  },
  {
   "cell_type": "code",
   "execution_count": null,
   "metadata": {},
   "outputs": [],
   "source": []
  }
 ],
 "metadata": {
  "kernelspec": {
   "display_name": "Python 3",
   "language": "python",
   "name": "python3"
  },
  "language_info": {
   "codemirror_mode": {
    "name": "ipython",
    "version": 3
   },
   "file_extension": ".py",
   "mimetype": "text/x-python",
   "name": "python",
   "nbconvert_exporter": "python",
   "pygments_lexer": "ipython3",
   "version": "3.13.2"
  }
 },
 "nbformat": 4,
 "nbformat_minor": 2
}
